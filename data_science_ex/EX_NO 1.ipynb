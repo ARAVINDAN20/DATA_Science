{
 "cells": [
  {
   "cell_type": "code",
   "execution_count": null,
   "id": "d5b6dd5f-35da-4927-9415-08af17f56fd8",
   "metadata": {},
   "outputs": [],
   "source": [
    "Ex.No:1 INTRODUCTION OT DATA SCIENCE WITH PYTHON PROGRAMMING\n",
    "\n",
    "Reg:URK22AI1026\n",
    "\n",
    "\n",
    "Aim:\n",
    "\n",
    "Write a python program to demonstrate the basics of dictionary, list, set, tuple, array and\n",
    "csv files for data science application.\n",
    "\n",
    "Description:\n",
    "\n",
    "Lists:\n",
    "\n",
    "Lists are mutable data types in Python. Lists is a 0-based index datatype meaning the index\n",
    "of the first element starts at 0. Lists are used to store multiple items in a single variable.\n",
    "Lists are one of the 4 data types present in Python\n",
    "\n",
    "Dictionary:\n",
    "\n",
    "Dictionaries are mutable data types in nature meaning they can be updated after they are\n",
    "created. Syntactically they are written in a key, value pair format inside curly braces.\n",
    "{Key1:Value1,Key2:Value2,Key3:Value3,Key4:Value4}\n",
    "Keys are always unique and there cannot be any duplicates. There is no index in the\n",
    "dictionary meaning they are not ordered. Key is the default iterator and is used to retrieve\n",
    "the value.\n",
    "\n",
    "Tuple:\n",
    "\n",
    "Tuples are the same as lists are with the exception that the data once entered into the tuple\n",
    "cannot be changed no matter what. The only exception is when the data inside the tuple is\n",
    "mutable, only then the tuple data can be changed\n",
    "Creating a Tuple\n",
    "Tuple is created by using parenthesis or using the tuple() function.\n",
    "my_tuple = (1, 2, 3) #create tuple\n",
    "print(my_tuple)\n",
    "Output:\n",
    "(1, 2, 3)\n",
    "\n",
    "Sets:\n",
    "    \n",
    "Sets are a collection of unordered elements that are unique. Meaning that even if the data is\n",
    "repeated more than one time, it would be entered into the set only once. It resembles the\n",
    "sets that you have learnt in arithmetic. The operations also are the same as is with the\n",
    "arithmetic sets.\n",
    "Creating a set\n",
    "Sets are created using the flower braces but instead of adding key-value pairs, values are\n",
    "passed into it.\n",
    "my_set = {1, 2, 3, 4, 5, 5, 5} #create set\n",
    "print(my_set)\n",
    "Output:\n",
    "{1, 2, 3, 4, 5}\n",
    "\n",
    "CSV Files:\n",
    "    \n",
    "CSV stands for “Comma Separated Values.” It is the simplest form of storing data in tabular\n",
    "form as plain text. It is important to know to work with CSV because we mostly rely on\n",
    "CSV data in our day-to-day lives as data scientists."
   ]
  },
  {
   "cell_type": "code",
   "execution_count": null,
   "id": "51e9ab39-0249-4532-b68d-4c46634c0c0f",
   "metadata": {},
   "outputs": [],
   "source": [
    "1. Create an empty dictionary and fill with some sub_code and sub_name as pair by user\n",
    "input. Then take one sub_code as input from the user and traverse through dictionary\n",
    "to find the corresponding sub_name and display the same."
   ]
  },
  {
   "cell_type": "code",
   "execution_count": 1,
   "id": "09750358-9c64-4adb-997f-bc3bc111d21b",
   "metadata": {
    "tags": []
   },
   "outputs": [
    {
     "name": "stdout",
     "output_type": "stream",
     "text": [
      "Enter No of Students: 2\n",
      "Roll No:  22\n",
      "Student Name:  a\n",
      "Roll No:  33\n",
      "Student Name:  b\n"
     ]
    },
    {
     "name": "stdout",
     "output_type": "stream",
     "text": [
      "{22: ['a'], 33: ['b']}\n"
     ]
    },
    {
     "name": "stdout",
     "output_type": "stream",
     "text": [
      "give_the roll_no: 44\n"
     ]
    },
    {
     "name": "stdout",
     "output_type": "stream",
     "text": [
      "It is not found\n"
     ]
    }
   ],
   "source": [
    "def students(n):\n",
    "    result = {}\n",
    "    for _ in range(n):\n",
    "        roll_no = int(input(\"Roll No: \"))\n",
    "        std_name = input(\"Student Name: \")\n",
    "        result[roll_no] = [std_name]\n",
    "    print(result)\n",
    "    rn = int(input(\"give_the roll_no:\"))\n",
    "    if rn in result:\n",
    "        print(\"It is found :)\")\n",
    "    else:\n",
    "        print(\"It is not found\")\n",
    "\n",
    "\n",
    "n = int(input(\"Enter No of Students:\"))\n",
    "students(n)"
   ]
  },
  {
   "cell_type": "code",
   "execution_count": null,
   "id": "a1dcf3ef-0d72-4960-9121-10e4eed8a96b",
   "metadata": {},
   "outputs": [],
   "source": [
    "2. Create an empty list and fill with list of words by user input. Find the list of words that\n",
    "are longer than n from a given list of words."
   ]
  },
  {
   "cell_type": "code",
   "execution_count": 2,
   "id": "5d4e48f8-8d38-4719-a15b-8c074e5d8eb3",
   "metadata": {
    "tags": []
   },
   "outputs": [
    {
     "name": "stdout",
     "output_type": "stream",
     "text": [
      "['quick', ' brown ', 'jumps', 'over', 'lazy']\n"
     ]
    }
   ],
   "source": [
    "print([i for i in [\"The\",\"quick\",\" brown \",\"fox\",\"jumps\",\"over\",\"the\",\"lazy\",\"dog\"] if len(i)>3])"
   ]
  },
  {
   "cell_type": "code",
   "execution_count": null,
   "id": "c956a1d7-6d2a-4714-8131-41ae5cfabead",
   "metadata": {},
   "outputs": [],
   "source": [
    "3. Create an empty set and fill with some values by user input. Check if a given value is\n",
    "present in a set or not."
   ]
  },
  {
   "cell_type": "code",
   "execution_count": 3,
   "id": "febad16d-cc75-4fdf-9cc1-c8517796c61c",
   "metadata": {
    "tags": []
   },
   "outputs": [
    {
     "name": "stdout",
     "output_type": "stream",
     "text": [
      "Initial blank Set: \n",
      "set()\n",
      "{'elgin', 'aravind', 'god'}\n"
     ]
    }
   ],
   "source": [
    "set1 = set()\n",
    "print(\"Initial blank Set: \")\n",
    "print(set1)\n",
    "\n",
    "set2 = set([\"aravind\", \"god\", \"elgin\"])\n",
    "print(set2)\n"
   ]
  },
  {
   "cell_type": "code",
   "execution_count": null,
   "id": "1d225b83-5f10-4ded-b57e-91e2141a0ddf",
   "metadata": {},
   "outputs": [],
   "source": [
    "4. Create an empty tuple and fill with some values by user input. Count the occurrence of\n",
    "a given input number in the tuple."
   ]
  },
  {
   "cell_type": "code",
   "execution_count": 4,
   "id": "bd2c77e5-6bb0-4671-90a8-e4c19313ceae",
   "metadata": {
    "tags": []
   },
   "outputs": [
    {
     "name": "stdout",
     "output_type": "stream",
     "text": [
      "0\n",
      "3\n",
      "4\n"
     ]
    }
   ],
   "source": [
    "def countX(tup, x):\n",
    "    count = 0\n",
    "    for ele in tup:\n",
    "        if (ele == x):\n",
    "            count = count + 1\n",
    "    return count\n",
    "\n",
    "\n",
    "tup = (10, 8, 5, 2, 10, 15, 10, 8, 5, 8, 8, 2)\n",
    "enq = 4\n",
    "enq1 = 10\n",
    "enq2 = 8\n",
    "\n",
    "print(countX(tup, enq))\n",
    "print(countX(tup, enq1))\n",
    "print(countX(tup, enq2))\n"
   ]
  },
  {
   "cell_type": "code",
   "execution_count": null,
   "id": "a2edfde0-b9b0-4f4e-8da3-46c2c89565af",
   "metadata": {},
   "outputs": [],
   "source": [
    "5.Create a 2D array and perform matrix subtraction using numpy."
   ]
  },
  {
   "cell_type": "code",
   "execution_count": 5,
   "id": "a57e16c4-4734-41ef-b4fe-9fe2f13396e2",
   "metadata": {
    "tags": []
   },
   "outputs": [
    {
     "name": "stdout",
     "output_type": "stream",
     "text": [
      "[[-10 -19 -28]\n",
      " [-37 -46 -55]]\n"
     ]
    }
   ],
   "source": [
    "import numpy as khk\n",
    "a= khk.array([[1,2,3],[4,5,6]])\n",
    "b= khk.array([[11,21,31],[41,51,61]])\n",
    "result = khk.subtract(a,b)\n",
    "print(result)\n",
    "\n",
    "\n"
   ]
  },
  {
   "cell_type": "code",
   "execution_count": null,
   "id": "0a124dbf-cd42-4bd6-8f31-c376eb197444",
   "metadata": {},
   "outputs": [],
   "source": [
    "6. Read an .csv file and display the basic details."
   ]
  },
  {
   "cell_type": "code",
   "execution_count": 6,
   "id": "7a1d3a7d-ed43-4c57-812f-b35cb3491932",
   "metadata": {
    "tags": []
   },
   "outputs": [
    {
     "name": "stdout",
     "output_type": "stream",
     "text": [
      "Empty DataFrame\n",
      "Columns: []\n",
      "Index: []\n"
     ]
    }
   ],
   "source": [
    "import pandas as pd\n",
    "# import numpy as np\n",
    "data = pd.DataFrame()\n",
    "print(data)"
   ]
  },
  {
   "cell_type": "code",
   "execution_count": 7,
   "id": "eb45106b-0903-4861-afec-0f8cdcd3fa8d",
   "metadata": {
    "tags": []
   },
   "outputs": [
    {
     "data": {
      "text/html": [
       "<div>\n",
       "<style scoped>\n",
       "    .dataframe tbody tr th:only-of-type {\n",
       "        vertical-align: middle;\n",
       "    }\n",
       "\n",
       "    .dataframe tbody tr th {\n",
       "        vertical-align: top;\n",
       "    }\n",
       "\n",
       "    .dataframe thead th {\n",
       "        text-align: right;\n",
       "    }\n",
       "</style>\n",
       "<table border=\"1\" class=\"dataframe\">\n",
       "  <thead>\n",
       "    <tr style=\"text-align: right;\">\n",
       "      <th></th>\n",
       "      <th>pclass</th>\n",
       "      <th>survived</th>\n",
       "      <th>name</th>\n",
       "      <th>sex</th>\n",
       "      <th>age</th>\n",
       "      <th>sibsp</th>\n",
       "      <th>parch</th>\n",
       "      <th>ticket</th>\n",
       "      <th>fare</th>\n",
       "      <th>cabin</th>\n",
       "      <th>embarked</th>\n",
       "      <th>boat</th>\n",
       "      <th>body</th>\n",
       "      <th>home.dest</th>\n",
       "    </tr>\n",
       "  </thead>\n",
       "  <tbody>\n",
       "    <tr>\n",
       "      <th>0</th>\n",
       "      <td>1.0</td>\n",
       "      <td>1.0</td>\n",
       "      <td>Allen, Miss. Elisabeth Walton</td>\n",
       "      <td>female</td>\n",
       "      <td>29.0000</td>\n",
       "      <td>0.0</td>\n",
       "      <td>0.0</td>\n",
       "      <td>24160</td>\n",
       "      <td>211.3375</td>\n",
       "      <td>B5</td>\n",
       "      <td>S</td>\n",
       "      <td>2</td>\n",
       "      <td>NaN</td>\n",
       "      <td>St Louis, MO</td>\n",
       "    </tr>\n",
       "    <tr>\n",
       "      <th>1</th>\n",
       "      <td>1.0</td>\n",
       "      <td>1.0</td>\n",
       "      <td>Allison, Master. Hudson Trevor</td>\n",
       "      <td>male</td>\n",
       "      <td>0.9167</td>\n",
       "      <td>1.0</td>\n",
       "      <td>2.0</td>\n",
       "      <td>113781</td>\n",
       "      <td>151.5500</td>\n",
       "      <td>C22 C26</td>\n",
       "      <td>S</td>\n",
       "      <td>11</td>\n",
       "      <td>NaN</td>\n",
       "      <td>Montreal, PQ / Chesterville, ON</td>\n",
       "    </tr>\n",
       "    <tr>\n",
       "      <th>2</th>\n",
       "      <td>1.0</td>\n",
       "      <td>0.0</td>\n",
       "      <td>Allison, Miss. Helen Loraine</td>\n",
       "      <td>female</td>\n",
       "      <td>2.0000</td>\n",
       "      <td>1.0</td>\n",
       "      <td>2.0</td>\n",
       "      <td>113781</td>\n",
       "      <td>151.5500</td>\n",
       "      <td>C22 C26</td>\n",
       "      <td>S</td>\n",
       "      <td>NaN</td>\n",
       "      <td>NaN</td>\n",
       "      <td>Montreal, PQ / Chesterville, ON</td>\n",
       "    </tr>\n",
       "    <tr>\n",
       "      <th>3</th>\n",
       "      <td>1.0</td>\n",
       "      <td>0.0</td>\n",
       "      <td>Allison, Mr. Hudson Joshua Creighton</td>\n",
       "      <td>male</td>\n",
       "      <td>30.0000</td>\n",
       "      <td>1.0</td>\n",
       "      <td>2.0</td>\n",
       "      <td>113781</td>\n",
       "      <td>151.5500</td>\n",
       "      <td>C22 C26</td>\n",
       "      <td>S</td>\n",
       "      <td>NaN</td>\n",
       "      <td>135.0</td>\n",
       "      <td>Montreal, PQ / Chesterville, ON</td>\n",
       "    </tr>\n",
       "    <tr>\n",
       "      <th>4</th>\n",
       "      <td>1.0</td>\n",
       "      <td>0.0</td>\n",
       "      <td>Allison, Mrs. Hudson J C (Bessie Waldo Daniels)</td>\n",
       "      <td>female</td>\n",
       "      <td>25.0000</td>\n",
       "      <td>1.0</td>\n",
       "      <td>2.0</td>\n",
       "      <td>113781</td>\n",
       "      <td>151.5500</td>\n",
       "      <td>C22 C26</td>\n",
       "      <td>S</td>\n",
       "      <td>NaN</td>\n",
       "      <td>NaN</td>\n",
       "      <td>Montreal, PQ / Chesterville, ON</td>\n",
       "    </tr>\n",
       "    <tr>\n",
       "      <th>...</th>\n",
       "      <td>...</td>\n",
       "      <td>...</td>\n",
       "      <td>...</td>\n",
       "      <td>...</td>\n",
       "      <td>...</td>\n",
       "      <td>...</td>\n",
       "      <td>...</td>\n",
       "      <td>...</td>\n",
       "      <td>...</td>\n",
       "      <td>...</td>\n",
       "      <td>...</td>\n",
       "      <td>...</td>\n",
       "      <td>...</td>\n",
       "      <td>...</td>\n",
       "    </tr>\n",
       "    <tr>\n",
       "      <th>1305</th>\n",
       "      <td>3.0</td>\n",
       "      <td>0.0</td>\n",
       "      <td>Zabour, Miss. Thamine</td>\n",
       "      <td>female</td>\n",
       "      <td>NaN</td>\n",
       "      <td>1.0</td>\n",
       "      <td>0.0</td>\n",
       "      <td>2665</td>\n",
       "      <td>14.4542</td>\n",
       "      <td>NaN</td>\n",
       "      <td>C</td>\n",
       "      <td>NaN</td>\n",
       "      <td>NaN</td>\n",
       "      <td>NaN</td>\n",
       "    </tr>\n",
       "    <tr>\n",
       "      <th>1306</th>\n",
       "      <td>3.0</td>\n",
       "      <td>0.0</td>\n",
       "      <td>Zakarian, Mr. Mapriededer</td>\n",
       "      <td>male</td>\n",
       "      <td>26.5000</td>\n",
       "      <td>0.0</td>\n",
       "      <td>0.0</td>\n",
       "      <td>2656</td>\n",
       "      <td>7.2250</td>\n",
       "      <td>NaN</td>\n",
       "      <td>C</td>\n",
       "      <td>NaN</td>\n",
       "      <td>304.0</td>\n",
       "      <td>NaN</td>\n",
       "    </tr>\n",
       "    <tr>\n",
       "      <th>1307</th>\n",
       "      <td>3.0</td>\n",
       "      <td>0.0</td>\n",
       "      <td>Zakarian, Mr. Ortin</td>\n",
       "      <td>male</td>\n",
       "      <td>27.0000</td>\n",
       "      <td>0.0</td>\n",
       "      <td>0.0</td>\n",
       "      <td>2670</td>\n",
       "      <td>7.2250</td>\n",
       "      <td>NaN</td>\n",
       "      <td>C</td>\n",
       "      <td>NaN</td>\n",
       "      <td>NaN</td>\n",
       "      <td>NaN</td>\n",
       "    </tr>\n",
       "    <tr>\n",
       "      <th>1308</th>\n",
       "      <td>3.0</td>\n",
       "      <td>0.0</td>\n",
       "      <td>Zimmerman, Mr. Leo</td>\n",
       "      <td>male</td>\n",
       "      <td>29.0000</td>\n",
       "      <td>0.0</td>\n",
       "      <td>0.0</td>\n",
       "      <td>315082</td>\n",
       "      <td>7.8750</td>\n",
       "      <td>NaN</td>\n",
       "      <td>S</td>\n",
       "      <td>NaN</td>\n",
       "      <td>NaN</td>\n",
       "      <td>NaN</td>\n",
       "    </tr>\n",
       "    <tr>\n",
       "      <th>1309</th>\n",
       "      <td>NaN</td>\n",
       "      <td>NaN</td>\n",
       "      <td>NaN</td>\n",
       "      <td>NaN</td>\n",
       "      <td>NaN</td>\n",
       "      <td>NaN</td>\n",
       "      <td>NaN</td>\n",
       "      <td>NaN</td>\n",
       "      <td>NaN</td>\n",
       "      <td>NaN</td>\n",
       "      <td>NaN</td>\n",
       "      <td>NaN</td>\n",
       "      <td>NaN</td>\n",
       "      <td>NaN</td>\n",
       "    </tr>\n",
       "  </tbody>\n",
       "</table>\n",
       "<p>1310 rows × 14 columns</p>\n",
       "</div>"
      ],
      "text/plain": [
       "      pclass  survived                                             name  \\\n",
       "0        1.0       1.0                    Allen, Miss. Elisabeth Walton   \n",
       "1        1.0       1.0                   Allison, Master. Hudson Trevor   \n",
       "2        1.0       0.0                     Allison, Miss. Helen Loraine   \n",
       "3        1.0       0.0             Allison, Mr. Hudson Joshua Creighton   \n",
       "4        1.0       0.0  Allison, Mrs. Hudson J C (Bessie Waldo Daniels)   \n",
       "...      ...       ...                                              ...   \n",
       "1305     3.0       0.0                            Zabour, Miss. Thamine   \n",
       "1306     3.0       0.0                        Zakarian, Mr. Mapriededer   \n",
       "1307     3.0       0.0                              Zakarian, Mr. Ortin   \n",
       "1308     3.0       0.0                               Zimmerman, Mr. Leo   \n",
       "1309     NaN       NaN                                              NaN   \n",
       "\n",
       "         sex      age  sibsp  parch  ticket      fare    cabin embarked boat  \\\n",
       "0     female  29.0000    0.0    0.0   24160  211.3375       B5        S    2   \n",
       "1       male   0.9167    1.0    2.0  113781  151.5500  C22 C26        S   11   \n",
       "2     female   2.0000    1.0    2.0  113781  151.5500  C22 C26        S  NaN   \n",
       "3       male  30.0000    1.0    2.0  113781  151.5500  C22 C26        S  NaN   \n",
       "4     female  25.0000    1.0    2.0  113781  151.5500  C22 C26        S  NaN   \n",
       "...      ...      ...    ...    ...     ...       ...      ...      ...  ...   \n",
       "1305  female      NaN    1.0    0.0    2665   14.4542      NaN        C  NaN   \n",
       "1306    male  26.5000    0.0    0.0    2656    7.2250      NaN        C  NaN   \n",
       "1307    male  27.0000    0.0    0.0    2670    7.2250      NaN        C  NaN   \n",
       "1308    male  29.0000    0.0    0.0  315082    7.8750      NaN        S  NaN   \n",
       "1309     NaN      NaN    NaN    NaN     NaN       NaN      NaN      NaN  NaN   \n",
       "\n",
       "       body                        home.dest  \n",
       "0       NaN                     St Louis, MO  \n",
       "1       NaN  Montreal, PQ / Chesterville, ON  \n",
       "2       NaN  Montreal, PQ / Chesterville, ON  \n",
       "3     135.0  Montreal, PQ / Chesterville, ON  \n",
       "4       NaN  Montreal, PQ / Chesterville, ON  \n",
       "...     ...                              ...  \n",
       "1305    NaN                              NaN  \n",
       "1306  304.0                              NaN  \n",
       "1307    NaN                              NaN  \n",
       "1308    NaN                              NaN  \n",
       "1309    NaN                              NaN  \n",
       "\n",
       "[1310 rows x 14 columns]"
      ]
     },
     "execution_count": 7,
     "metadata": {},
     "output_type": "execute_result"
    }
   ],
   "source": [
    "df=pd.read_csv(\"titanic3.csv\")\n",
    "df"
   ]
  },
  {
   "cell_type": "code",
   "execution_count": 8,
   "id": "b9495a66-a9ef-4315-a25c-6ce33a775129",
   "metadata": {
    "tags": []
   },
   "outputs": [
    {
     "name": "stdout",
     "output_type": "stream",
     "text": [
      "pclass       float64\n",
      "survived     float64\n",
      "name          object\n",
      "sex           object\n",
      "age          float64\n",
      "sibsp        float64\n",
      "parch        float64\n",
      "ticket        object\n",
      "fare         float64\n",
      "cabin         object\n",
      "embarked      object\n",
      "boat          object\n",
      "body         float64\n",
      "home.dest     object\n",
      "dtype: object\n"
     ]
    }
   ],
   "source": [
    "print(df.dtypes)#all the type of datatype of data\n"
   ]
  },
  {
   "cell_type": "code",
   "execution_count": 9,
   "id": "c6433d11-ed30-4243-be03-0610b7914bb4",
   "metadata": {
    "tags": []
   },
   "outputs": [
    {
     "name": "stdout",
     "output_type": "stream",
     "text": [
      "<bound method DataFrame.info of       pclass  survived                                             name  \\\n",
      "0        1.0       1.0                    Allen, Miss. Elisabeth Walton   \n",
      "1        1.0       1.0                   Allison, Master. Hudson Trevor   \n",
      "2        1.0       0.0                     Allison, Miss. Helen Loraine   \n",
      "3        1.0       0.0             Allison, Mr. Hudson Joshua Creighton   \n",
      "4        1.0       0.0  Allison, Mrs. Hudson J C (Bessie Waldo Daniels)   \n",
      "...      ...       ...                                              ...   \n",
      "1305     3.0       0.0                            Zabour, Miss. Thamine   \n",
      "1306     3.0       0.0                        Zakarian, Mr. Mapriededer   \n",
      "1307     3.0       0.0                              Zakarian, Mr. Ortin   \n",
      "1308     3.0       0.0                               Zimmerman, Mr. Leo   \n",
      "1309     NaN       NaN                                              NaN   \n",
      "\n",
      "         sex      age  sibsp  parch  ticket      fare    cabin embarked boat  \\\n",
      "0     female  29.0000    0.0    0.0   24160  211.3375       B5        S    2   \n",
      "1       male   0.9167    1.0    2.0  113781  151.5500  C22 C26        S   11   \n",
      "2     female   2.0000    1.0    2.0  113781  151.5500  C22 C26        S  NaN   \n",
      "3       male  30.0000    1.0    2.0  113781  151.5500  C22 C26        S  NaN   \n",
      "4     female  25.0000    1.0    2.0  113781  151.5500  C22 C26        S  NaN   \n",
      "...      ...      ...    ...    ...     ...       ...      ...      ...  ...   \n",
      "1305  female      NaN    1.0    0.0    2665   14.4542      NaN        C  NaN   \n",
      "1306    male  26.5000    0.0    0.0    2656    7.2250      NaN        C  NaN   \n",
      "1307    male  27.0000    0.0    0.0    2670    7.2250      NaN        C  NaN   \n",
      "1308    male  29.0000    0.0    0.0  315082    7.8750      NaN        S  NaN   \n",
      "1309     NaN      NaN    NaN    NaN     NaN       NaN      NaN      NaN  NaN   \n",
      "\n",
      "       body                        home.dest  \n",
      "0       NaN                     St Louis, MO  \n",
      "1       NaN  Montreal, PQ / Chesterville, ON  \n",
      "2       NaN  Montreal, PQ / Chesterville, ON  \n",
      "3     135.0  Montreal, PQ / Chesterville, ON  \n",
      "4       NaN  Montreal, PQ / Chesterville, ON  \n",
      "...     ...                              ...  \n",
      "1305    NaN                              NaN  \n",
      "1306  304.0                              NaN  \n",
      "1307    NaN                              NaN  \n",
      "1308    NaN                              NaN  \n",
      "1309    NaN                              NaN  \n",
      "\n",
      "[1310 rows x 14 columns]>\n"
     ]
    }
   ],
   "source": [
    "print(df.info)#all the type of information of data\n"
   ]
  },
  {
   "cell_type": "code",
   "execution_count": 10,
   "id": "ba4ee36d-d820-4313-82e1-5528a719e336",
   "metadata": {
    "tags": []
   },
   "outputs": [
    {
     "name": "stdout",
     "output_type": "stream",
     "text": [
      "            pclass     survived          age        sibsp        parch  \\\n",
      "count  1309.000000  1309.000000  1046.000000  1309.000000  1309.000000   \n",
      "mean      2.294882     0.381971    29.881135     0.498854     0.385027   \n",
      "std       0.837836     0.486055    14.413500     1.041658     0.865560   \n",
      "min       1.000000     0.000000     0.166700     0.000000     0.000000   \n",
      "25%       2.000000     0.000000    21.000000     0.000000     0.000000   \n",
      "50%       3.000000     0.000000    28.000000     0.000000     0.000000   \n",
      "75%       3.000000     1.000000    39.000000     1.000000     0.000000   \n",
      "max       3.000000     1.000000    80.000000     8.000000     9.000000   \n",
      "\n",
      "              fare        body  \n",
      "count  1308.000000  121.000000  \n",
      "mean     33.295479  160.809917  \n",
      "std      51.758668   97.696922  \n",
      "min       0.000000    1.000000  \n",
      "25%       7.895800   72.000000  \n",
      "50%      14.454200  155.000000  \n",
      "75%      31.275000  256.000000  \n",
      "max     512.329200  328.000000  \n"
     ]
    }
   ],
   "source": [
    "print(df.describe())#stastc.... information"
   ]
  },
  {
   "cell_type": "code",
   "execution_count": 11,
   "id": "ca8ff338-132c-4d6b-a7f8-a239f6e970cc",
   "metadata": {
    "tags": []
   },
   "outputs": [
    {
     "name": "stdout",
     "output_type": "stream",
     "text": [
      "18340\n",
      "\n",
      "(1310, 14)\n",
      "\n",
      "Index(['pclass', 'survived', 'name', 'sex', 'age', 'sibsp', 'parch', 'ticket',\n",
      "       'fare', 'cabin', 'embarked', 'boat', 'body', 'home.dest'],\n",
      "      dtype='object')\n"
     ]
    }
   ],
   "source": [
    "print(df.size) #rXc rows X columns\n",
    "print()\n",
    "print(df.shape) #2D, 3 , nD\n",
    "print()\n",
    "print(df.columns) #columns"
   ]
  }
 ],
 "metadata": {
  "kernelspec": {
   "display_name": "Python 3 (ipykernel)",
   "language": "python",
   "name": "python3"
  },
  "language_info": {
   "codemirror_mode": {
    "name": "ipython",
    "version": 3
   },
   "file_extension": ".py",
   "mimetype": "text/x-python",
   "name": "python",
   "nbconvert_exporter": "python",
   "pygments_lexer": "ipython3",
   "version": "3.11.5"
  }
 },
 "nbformat": 4,
 "nbformat_minor": 5
}
