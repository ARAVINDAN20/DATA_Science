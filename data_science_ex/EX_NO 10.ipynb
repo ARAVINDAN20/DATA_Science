{
 "cells": [
  {
   "cell_type": "code",
   "execution_count": null,
   "id": "11f63144-15be-471c-b78e-60e6efd9d4c4",
   "metadata": {},
   "outputs": [],
   "source": [
    "'''Ex.No:10 Recommender system\n",
    "REG:URK22AI1026\n",
    "\n",
    "Aim:\n",
    "\n",
    "To design a content-based recommender system using python programming\n",
    "\n",
    "Description\n",
    "\n",
    "Recommender systems are among the most popular applications of data\n",
    "science today. There are a lot of applications where websites collect data from their\n",
    "users and use that data to predict the likes and dislikes of their users. This allows\n",
    "them to recommend the content that they like. Recommender System is a software\n",
    "system that provides specific suggestions to users according to their preferences.\n",
    "These techniques may provide decision-making capabilities to the user. Items refer to\n",
    "any product that the recommender system suggests to its user like movies, music,\n",
    "news, travel packages, e-commerce products, etc.\n",
    "\n",
    "Content-based recommenders Suggest similar items based on a particular\n",
    "item. This system uses item metadata, such as genre, director, description, actors,\n",
    "etc. for movies, to make these recommendations. And to recommend that, it will\n",
    "make use of the user&amp; past item metadata. A good example could be YouTube,\n",
    "where based on the history, it suggests new videos that can be potentially watched.'''"
   ]
  },
  {
   "cell_type": "code",
   "execution_count": 1,
   "id": "4560aa02-3a77-4dac-82b8-47f660d7217f",
   "metadata": {},
   "outputs": [
    {
     "name": "stdin",
     "output_type": "stream",
     "text": [
      "Enter a course title:  Ultimate Investment Banking Course\n",
      "Enter the number of recommendations:  33\n"
     ]
    },
    {
     "name": "stdout",
     "output_type": "stream",
     "text": [
      "Top 33 course suggestions for 'Ultimate Investment Banking Course':\n",
      "1. The Complete Investment Banking Course 2017\n",
      "2. Advanced Accounting for Investment Banking\n",
      "3. The Investment Banking Recruitment Series\n",
      "4. The Ultimate jQuery Course\n",
      "5. The Ultimate Web Development Course\n",
      "6. Intro to Investment Banking, M&A, IPO, Modeling + Free Book\n",
      "7. Investment Banking: How to Land a Job on Wall Street\n",
      "8. Business Banking 101\n",
      "9. Investment Banking Operations : Securities Trade Life Cycle\n",
      "10. Financial Accounting - The Ultimate Beginner Course\n",
      "11. Ultimate CSS3 Course - From Beginners To Professional\n",
      "12. Ultimate WordPress Plugin Course\n",
      "13. The Ultimate Drawing Course - Beginner to Advanced\n",
      "14. Managerial Accounting - The Ultimate Beginner Course!\n",
      "15. Coaching Course:Investment Analysis for your clients\n",
      "16. Investment Portfolio Analysis with R\n",
      "17. The Ultimate Vue JS 2 Developers Course\n",
      "18. Accounting, Finance and Banking - A Comprehensive Study\n",
      "19. PHP with PDO - ULTIMATE Crash Course\n",
      "20. Ultimate Web Developer Course Build 10 Websites from Scratch\n",
      "21. Essentials of Finance and Investment in 2 hours\n",
      "22. The Ultimate Web Developer How To Guide\n",
      "23. Investment Portfolio Analysis with Python\n",
      "24. Investment Portfolio Analysis with Excel\n",
      "25. Workshop on Banking Credit Analysis Process\n",
      "26. Banking Credit Analysis Process (for Bankers)\n",
      "27. Ultimate Beginner Guitar Masterclass\n",
      "28. Stock Market investment: Practical Accounting\n",
      "29. Ultimate JavaScript Objects\n",
      "30. The Ultimate Beginner's Guide to Django\n",
      "31. Cryptocurrency (BTC & ETH) Investment & Trading Course 2017\n",
      "32. Ultimate Web Designer & Developer Course: Build 23 Projects!\n",
      "33. Ultimate Blues Guitar Beginner Lessons\n"
     ]
    }
   ],
   "source": [
    "import pandas as pd\n",
    "from sklearn.feature_extraction.text import TfidfVectorizer\n",
    "from sklearn.metrics.pairwise import cosine_similarity\n",
    "\n",
    "data = pd.read_csv('udemy_courses.csv')\n",
    "\n",
    "data['course_title'] = data['course_title'].str.strip()\n",
    "\n",
    "tfidf = TfidfVectorizer(stop_words='english')\n",
    "\n",
    "tfidf_matrix = tfidf.fit_transform(data['course_title'])\n",
    "\n",
    "cosine_sim = cosine_similarity(tfidf_matrix, tfidf_matrix)\n",
    "\n",
    "def recommend_courses(input_title, n):\n",
    "    if input_title not in data['course_title'].values:\n",
    "        return \"Course not found. Please enter a valid course title.\"\n",
    "    \n",
    "    idx = data[data['course_title'] == input_title].index[0]\n",
    "    sim_scores = list(enumerate(cosine_sim[idx]))\n",
    "    sim_scores = sorted(sim_scores, key=lambda x: x[1], reverse=True)\n",
    "    top_n = sim_scores[1:n+1]  # Exclude the input course itself\n",
    "    recommendations = [data.iloc[i[0]]['course_title'] for i in top_n]\n",
    "    return recommendations\n",
    "\n",
    "input_title = input(\"Enter a course title: \")\n",
    "num_recommendations = int(input(\"Enter the number of recommendations: \"))\n",
    "\n",
    "recommended_courses = recommend_courses(input_title, num_recommendations)\n",
    "\n",
    "if isinstance(recommended_courses, str):\n",
    "    print(recommended_courses)\n",
    "else:\n",
    "    print(f\"Top {num_recommendations} course suggestions for '{input_title}':\")\n",
    "    for i, course in enumerate(recommended_courses):\n",
    "        print(f\"{i+1}. {course}\")"
   ]
  },
  {
   "cell_type": "code",
   "execution_count": null,
   "id": "6f961b2b-a38e-46fe-830d-7abdf253338a",
   "metadata": {},
   "outputs": [],
   "source": [
    "'''Result:\n",
    "To design a content-based recommender system using python programming\n",
    "IS EXECUTED SUCCESSFULLY.\n",
    "\n",
    "'''"
   ]
  }
 ],
 "metadata": {
  "kernelspec": {
   "display_name": "Python 3 (ipykernel)",
   "language": "python",
   "name": "python3"
  },
  "language_info": {
   "codemirror_mode": {
    "name": "ipython",
    "version": 3
   },
   "file_extension": ".py",
   "mimetype": "text/x-python",
   "name": "python",
   "nbconvert_exporter": "python",
   "pygments_lexer": "ipython3",
   "version": "3.11.0"
  }
 },
 "nbformat": 4,
 "nbformat_minor": 5
}
